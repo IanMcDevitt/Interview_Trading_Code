{
 "cells": [
  {
   "cell_type": "code",
   "execution_count": 40,
   "id": "5a3f4df5",
   "metadata": {
    "scrolled": true
   },
   "outputs": [],
   "source": [
    "import numpy as np\n",
    "import pandas as pd # update to 2.0 when they fix the bug\n",
    "import hvplot.pandas  # noqa\n",
    "#For Monte Carlo\n",
    "import random\n",
    "#Visualization\n",
    "import holoviews as hv\n",
    "from tqdm import tqdm\n",
    "\n",
    "#Historical Data\n",
    "import yfinance as yf\n",
    "import time"
   ]
  },
  {
   "cell_type": "code",
   "execution_count": 41,
   "id": "eb649d25",
   "metadata": {},
   "outputs": [],
   "source": [
    "stocks = [\"BA\",'NVDA', 'FCNCA','KO', 'PEP', 'AC', 'TSLA', 'AMZN', \n",
    "         'NFLX', 'CAT']\n",
    "#stocks = [\"MSFT\"]"
   ]
  },
  {
   "cell_type": "code",
   "execution_count": 42,
   "id": "1c1a8362",
   "metadata": {},
   "outputs": [],
   "source": [
    "from datetime import datetime\n",
    "\n",
    "def convert_date_format(date_string, input_format='%Y/%m/%d', output_format='%Y-%m-%d'):\n",
    "    date_object = datetime.strptime(date_string, input_format)\n",
    "    return date_object.strftime(output_format)\n"
   ]
  },
  {
   "cell_type": "code",
   "execution_count": 43,
   "id": "2e8d46dc",
   "metadata": {},
   "outputs": [],
   "source": [
    "#begin_date = \"01/01/2014\"\n",
    "begin_date = \"2014/01/01\"\n",
    "#end_date = \"20/03/2023\"\n",
    "end_date = \"2023/01/01\"\n",
    "\n",
    "begin_date = convert_date_format(begin_date)\n",
    "end_date = convert_date_format(end_date)"
   ]
  },
  {
   "cell_type": "code",
   "execution_count": 44,
   "id": "2e2933f5",
   "metadata": {},
   "outputs": [],
   "source": [
    "def generate_stock_returns(stocks_list, begin_date, end_date):\n",
    "    prices = pd.DataFrame()\n",
    "    for stock in stocks_list:\n",
    "        ticker = yf.Ticker(stock)\n",
    "        df_ = ticker.history(start=begin_date, end=end_date)['Close']\n",
    "        df_.rename(stock, inplace=True)\n",
    "        prices = pd.concat([prices, df_], axis=1)\n",
    "    prices.index.name = \"Date\"\n",
    "    return prices\n",
    "\n",
    "prices = generate_stock_returns(stocks, begin_date, end_date)\n",
    "\n",
    "returns = prices.pct_change()\n",
    "\n",
    "cov = returns.cov()\n",
    "\n",
    "np.random.seed(42)\n",
    "weights = np.random.random(len(stocks))\n",
    "weights /= np.sum(weights)\n",
    "\n",
    "rp = (returns.mean()*252)@weights\n",
    "rf = 0.01  # Assuming a risk-free rate of 1%\n",
    "\n",
    "port_var = weights@(cov*252)@weights\n",
    "sharpe = (rp-rf)/np.sqrt(port_var)\n",
    "\n",
    "def portfolio_metrics(weights, index='Trial'):\n",
    "    rf = 0.01  # Assuming a risk-free rate of 1%\n",
    "    rp = (returns.mean()*252)@weights \n",
    "    port_var = weights@(cov*252)@weights\n",
    "    sharpe = (rp-rf)/np.sqrt(port_var)\n",
    "    df = pd.DataFrame({\"Expected Return\": rp,\n",
    "                       \"Portfolio Variance\":port_var,\n",
    "                       'Portfolio Std': np.sqrt(port_var),\n",
    "                       'Sharpe Ratio': sharpe}, index=[index])\n",
    "    return df\n",
    "\n",
    "portfolios = pd.DataFrame(columns=[*stocks, \"Expected Return\",\"Portfolio Variance\", \"Portfolio Std\", \"Sharpe Ratio\"])\n",
    "\n",
    "for i in range(10000):\n",
    "    weights = np.random.random(len(stocks))\n",
    "    weights /= np.sum(weights)\n",
    "    portfolios.loc[i, stocks] = weights\n",
    "    metrics = portfolio_metrics(weights,i)\n",
    "    portfolios.loc[i, [\"Expected Return\",\"Portfolio Variance\", \"Portfolio Std\", \"Sharpe Ratio\"]] = \\\n",
    "    metrics.loc[i,[\"Expected Return\",\"Portfolio Variance\", \"Portfolio Std\", \"Sharpe Ratio\"]]\n",
    "\n",
    "    \n",
    "# Replace infinite values with NaN\n",
    "portfolios = portfolios.replace([np.inf, -np.inf], np.nan)\n",
    "\n",
    "best_portfolio_index = portfolios[\"Sharpe Ratio\"].idxmax()\n",
    "worst_portfolio_index = portfolios[\"Sharpe Ratio\"].idxmin()\n",
    "\n",
    "best_portfolio = portfolios.loc[best_portfolio_index, stocks]\n",
    "best_portfolio = best_portfolio / best_portfolio.sum() * 100\n",
    "\n",
    "worst_portfolio = portfolios.loc[worst_portfolio_index, stocks]\n",
    "worst_portfolio = worst_portfolio / worst_portfolio.sum() * 100\n"
   ]
  },
  {
   "cell_type": "code",
   "execution_count": 45,
   "id": "63216bfc",
   "metadata": {},
   "outputs": [
    {
     "data": {
      "text/plain": [
       "BA       24.993637\n",
       "NVDA      2.688488\n",
       "FCNCA    21.873078\n",
       "KO       19.176401\n",
       "PEP       1.944400\n",
       "AC       16.399321\n",
       "TSLA      1.465153\n",
       "AMZN      1.988831\n",
       "NFLX      1.580780\n",
       "CAT       7.889911\n",
       "Name: 7928, dtype: float64"
      ]
     },
     "execution_count": 45,
     "metadata": {},
     "output_type": "execute_result"
    }
   ],
   "source": [
    "worst_portfolio"
   ]
  },
  {
   "cell_type": "code",
   "execution_count": 46,
   "id": "9c41bcbf",
   "metadata": {},
   "outputs": [
    {
     "data": {
      "text/plain": [
       "BA        1.993245\n",
       "NVDA     36.399699\n",
       "FCNCA     2.179239\n",
       "KO        6.699744\n",
       "PEP      25.408135\n",
       "AC        5.825717\n",
       "TSLA      4.003780\n",
       "AMZN      5.755241\n",
       "NFLX      2.319783\n",
       "CAT       9.415417\n",
       "Name: 4541, dtype: float64"
      ]
     },
     "execution_count": 46,
     "metadata": {},
     "output_type": "execute_result"
    }
   ],
   "source": [
    "best_portfolio\n"
   ]
  },
  {
   "cell_type": "code",
   "execution_count": null,
   "id": "f9d10099",
   "metadata": {},
   "outputs": [],
   "source": []
  },
  {
   "cell_type": "code",
   "execution_count": null,
   "id": "38175f34",
   "metadata": {},
   "outputs": [],
   "source": []
  }
 ],
 "metadata": {
  "kernelspec": {
   "display_name": "Python 3.11.3 64-bit",
   "language": "python",
   "name": "python3"
  },
  "language_info": {
   "codemirror_mode": {
    "name": "ipython",
    "version": 3
   },
   "file_extension": ".py",
   "mimetype": "text/x-python",
   "name": "python",
   "nbconvert_exporter": "python",
   "pygments_lexer": "ipython3",
   "version": "3.11.3"
  },
  "vscode": {
   "interpreter": {
    "hash": "b0fa6594d8f4cbf19f97940f81e996739fb7646882a419484c72d19e05852a7e"
   }
  }
 },
 "nbformat": 4,
 "nbformat_minor": 5
}
